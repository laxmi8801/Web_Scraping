{
 "cells": [
  {
   "cell_type": "code",
   "execution_count": null,
   "id": "95e1649d",
   "metadata": {},
   "outputs": [],
   "source": [
    "import requests\n",
    "from bs4 import BeautifulSoup\n",
    "\n",
    "\n",
    "def scrape_component_details(link):\n",
    "    # Send a GET request to the component link\n",
    "    response = requests.get(link)\n",
    "    soup = BeautifulSoup(response.content, 'html.parser')\n",
    "\n",
    "    # Find the component name\n",
    "    name_element = soup.find('h1', class_='product-details__title')\n",
    "    component_name = name_element.text.strip()\n",
    "\n",
    "    # Find the component overview\n",
    "    overview_element = soup.find('div', class_='product-details__overview')\n",
    "    component_overview = overview_element.text.strip()\n",
    "\n",
    "    # Find the component data\n",
    "    data_elements = soup.find_all('tr', class_='product-attribute-row')\n",
    "    component_data = {}\n",
    "    for element in data_elements:\n",
    "        key_element = element.find('th')\n",
    "        value_element = element.find('td')\n",
    "        key = key_element.text.strip()\n",
    "        value = value_element.text.strip()\n",
    "        component_data[key] = value\n",
    "\n",
    "    # Return the component details\n",
    "    component_details = {\n",
    "        'Link': link,\n",
    "        'Name': component_name,\n",
    "        'Overview': component_overview,\n",
    "        'Data': component_data\n",
    "    }\n",
    "    return component_details\n",
    "\n",
    "\n",
    "# Example usage\n",
    "component_link = 'https://in.element14.com/power-integrations/top260yn/switcher-offline-200-275w-hx-7to220/dp/1695425'\n",
    "component_details = scrape_component_details(component_link)\n",
    "print(component_details)\n"
   ]
  },
  {
   "cell_type": "code",
   "execution_count": null,
   "id": "753737ef",
   "metadata": {},
   "outputs": [],
   "source": [
    "import requests\n",
    "from bs4 import BeautifulSoup\n",
    "\n",
    "def getHTMLdocument(url):\n",
    "      \n",
    "    # request for HTML document of given url\n",
    "    response = requests.get(url)\n",
    "      \n",
    "    # response will be provided in JSON format\n",
    "    return response.text\n",
    "  \n",
    "    \n",
    "# assign required credentials\n",
    "# assign URL\n",
    "url_to_scrape = \"https://in.element14.com\"\n",
    "  \n",
    "# create document\n",
    "html_document = getHTMLdocument(url_to_scrape)\n",
    "  \n",
    "# create soap object\n",
    "soup = BeautifulSoup(html_document, 'html.parser')\n",
    "  \n",
    "  \n",
    "\n",
    "for link in soup.find_all('a', \n",
    "                          attrs={'href': re.compile(\"^https://\")}):\n",
    "    # display the actual urls\n",
    "    print(link.get('href'))  "
   ]
  },
  {
   "cell_type": "code",
   "execution_count": null,
   "id": "17ca81d3",
   "metadata": {},
   "outputs": [],
   "source": [
    "import requests\n",
    "URL = \"https://in.element14.com\"\n",
    "r = requests.get(URL)\n",
    "print(r.content)\n"
   ]
  },
  {
   "cell_type": "code",
   "execution_count": null,
   "id": "bcdc55bb",
   "metadata": {},
   "outputs": [],
   "source": [
    "#This will not run on online IDE\n",
    "import requests\n",
    "from bs4 import BeautifulSoup\n",
    "\n",
    "URL = \"https://in.element14.com\"\n",
    "r = requests.get(URL)\n",
    "\n",
    "soup = BeautifulSoup(r.content, 'html.parser') # If this line causes an error, run 'pip install html5lib' or install html5lib\n",
    "print(soup.prettify())\n"
   ]
  },
  {
   "cell_type": "code",
   "execution_count": null,
   "id": "cbb326b1",
   "metadata": {},
   "outputs": [],
   "source": []
  }
 ],
 "metadata": {
  "kernelspec": {
   "display_name": "Python 3 (ipykernel)",
   "language": "python",
   "name": "python3"
  },
  "language_info": {
   "codemirror_mode": {
    "name": "ipython",
    "version": 3
   },
   "file_extension": ".py",
   "mimetype": "text/x-python",
   "name": "python",
   "nbconvert_exporter": "python",
   "pygments_lexer": "ipython3",
   "version": "3.10.2"
  }
 },
 "nbformat": 4,
 "nbformat_minor": 5
}
